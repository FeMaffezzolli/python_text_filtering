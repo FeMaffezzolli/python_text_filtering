{
 "cells": [
  {
   "cell_type": "code",
   "execution_count": 27,
   "metadata": {},
   "outputs": [],
   "source": [
    "__author__  = \"Felipe Maffezzolli\"\n",
    "__license__ = \"MIT\"\n",
    "__version__ = \"1.0.1\"\n",
    "__email__   = \"felipe.maffezzolli@gmail.com\""
   ]
  },
  {
   "cell_type": "code",
   "execution_count": 28,
   "metadata": {},
   "outputs": [],
   "source": [
    "# Import needed libraries\n",
    "import collections as c"
   ]
  },
  {
   "cell_type": "code",
   "execution_count": 29,
   "metadata": {},
   "outputs": [],
   "source": [
    "# Load text file (at same folder)\n",
    "with open(\"text.txt\", \"r\") as myfile:\n",
    "    data = myfile.read().replace('\\n', ' ').split()"
   ]
  },
  {
   "cell_type": "markdown",
   "metadata": {},
   "source": [
    "## Original text:\n",
    "\n",
    "#### Brazilian Song: Trem Das Onze - Adoniran Barbosa\n",
    "\n",
    "Não posso ficar nem mais um minuto com você\n",
    "<br>Sinto muito amor, mas não pode ser\n",
    "<br>Moro em Jaçanã\n",
    "<br>Se eu perder esse trem\n",
    "<br>Que sai agora às onze horas\n",
    "<br>Só amanhã de manhã\n",
    "<br>Não posso ficar nem mais um minuto com você\n",
    "<br>Sinto muito amor, mas não pode ser\n",
    "<br>Moro em Jaçanã\n",
    "<br>Se eu perder esse trem\n",
    "<br>Que sai agora às onze horas\n",
    "<br>Só amanhã de manhã\n",
    "<br>Além disso mulher, tem outra coisa\n",
    "<br>Minha mãe não dorme enquanto eu não chegar\n",
    "<br>Sou filho único, tenho minha casa prá olhar\n",
    "<br>Não posso ficar, não posso ficar...\n",
    "<br>Não posso ficar nem mais um minuto com você\n",
    "<br>Sinto muito amor, mas não pode ser\n",
    "<br>Moro em Jaçanã\n",
    "<br>Se eu perder esse trem\n",
    "<br>Que sai agora às onze horas\n",
    "<br>Só amanhã de manhã\n",
    "<br>Além disso mulher, tem outra coisa\n",
    "<br>Minha mãe não dorme enquanto eu não chegar\n",
    "<br>Sou filho único, tenho minha casa prá olhar\n",
    "<br>Não posso ficar, não posso ficar..."
   ]
  },
  {
   "cell_type": "code",
   "execution_count": 30,
   "metadata": {},
   "outputs": [],
   "source": [
    "# Define words to be removed\n",
    "remove_list = ['de', 'esse' ,'com' ,'a', 'o', 'na', 'no', 'em', 'para', 'da', 'do', 'uns', 'uma', 'um', 'eu', 'ta', 'me', 'se', 'e', 'que', 'nem', 'às', 'só', 'mas']"
   ]
  },
  {
   "cell_type": "code",
   "execution_count": 33,
   "metadata": {},
   "outputs": [
    {
     "name": "stdout",
     "output_type": "stream",
     "text": [
      "158 original words ,  120 words now.\n",
      "\n"
     ]
    }
   ],
   "source": [
    "# Main script\n",
    "clean_list = []\n",
    "for word in data:\n",
    "    if (word.lower() not in remove_list):\n",
    "        clean_list.append(word.lower())\n",
    "print( len(data), 'original words , ', len(clean_list), 'words now.\\n')\n",
    "#pp.pprint(clean_list)"
   ]
  },
  {
   "cell_type": "code",
   "execution_count": 34,
   "metadata": {},
   "outputs": [],
   "source": [
    "# Create Counter object passing our 'clean_list'\n",
    "count = c.Counter(clean_list)"
   ]
  },
  {
   "cell_type": "code",
   "execution_count": 35,
   "metadata": {},
   "outputs": [
    {
     "data": {
      "text/plain": [
       "[('não', 14),\n",
       " ('posso', 7),\n",
       " ('minha', 4),\n",
       " ('ficar', 3),\n",
       " ('mais', 3),\n",
       " ('minuto', 3),\n",
       " ('você', 3),\n",
       " ('sinto', 3),\n",
       " ('muito', 3),\n",
       " ('amor,', 3),\n",
       " ('pode', 3),\n",
       " ('ser', 3),\n",
       " ('moro', 3),\n",
       " ('jaçanã', 3),\n",
       " ('perder', 3),\n",
       " ('trem', 3),\n",
       " ('sai', 3),\n",
       " ('agora', 3),\n",
       " ('onze', 3),\n",
       " ('horas', 3),\n",
       " ('amanhã', 3),\n",
       " ('manhã', 3),\n",
       " ('além', 2),\n",
       " ('disso', 2),\n",
       " ('mulher,', 2),\n",
       " ('tem', 2),\n",
       " ('outra', 2),\n",
       " ('coisa', 2),\n",
       " ('mãe', 2),\n",
       " ('dorme', 2),\n",
       " ('enquanto', 2),\n",
       " ('chegar', 2),\n",
       " ('sou', 2),\n",
       " ('filho', 2),\n",
       " ('único,', 2),\n",
       " ('tenho', 2),\n",
       " ('casa', 2),\n",
       " ('prá', 2),\n",
       " ('olhar', 2),\n",
       " ('ficar,', 2),\n",
       " ('ficar...', 2)]"
      ]
     },
     "execution_count": 35,
     "metadata": {},
     "output_type": "execute_result"
    }
   ],
   "source": [
    "# Checkout the most commom words\n",
    "(count.most_common())"
   ]
  }
 ],
 "metadata": {
  "kernelspec": {
   "display_name": "Python 3",
   "language": "python",
   "name": "python3"
  },
  "language_info": {
   "codemirror_mode": {
    "name": "ipython",
    "version": 3
   },
   "file_extension": ".py",
   "mimetype": "text/x-python",
   "name": "python",
   "nbconvert_exporter": "python",
   "pygments_lexer": "ipython3",
   "version": "3.6.5"
  }
 },
 "nbformat": 4,
 "nbformat_minor": 2
}
